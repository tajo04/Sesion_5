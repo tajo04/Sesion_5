{
 "cells": [
  {
   "cell_type": "markdown",
   "metadata": {},
   "source": [
    "# Ejercicios de Listas con For en Python"
   ]
  },
  {
   "cell_type": "code",
   "execution_count": 1,
   "metadata": {},
   "outputs": [],
   "source": [
    "def suma_elementos(lista):\n",
    "    suma = 0\n",
    "    for num in lista:\n",
    "        suma += num\n",
    "    return suma\n"
   ]
  },
  {
   "cell_type": "code",
   "execution_count": 2,
   "metadata": {},
   "outputs": [],
   "source": [
    "def contar_pares(lista):\n",
    "    contador = 0\n",
    "    for num in lista:\n",
    "        if num % 2 == 0:\n",
    "            contador += 1\n",
    "    return contador\n"
   ]
  },
  {
   "cell_type": "code",
   "execution_count": 3,
   "metadata": {},
   "outputs": [],
   "source": [
    "def elemento_mas_grande(lista):\n",
    "    mayor = lista[0]\n",
    "    for num in lista:\n",
    "        if num > mayor:\n",
    "            mayor = num\n",
    "    return mayor\n"
   ]
  },
  {
   "cell_type": "code",
   "execution_count": 4,
   "metadata": {},
   "outputs": [],
   "source": [
    "def multiplicar_elementos(lista):\n",
    "    nueva_lista = []\n",
    "    for num in lista:\n",
    "        nueva_lista.append(num * 2)\n",
    "    return nueva_lista\n"
   ]
  },
  {
   "cell_type": "code",
   "execution_count": 5,
   "metadata": {},
   "outputs": [],
   "source": [
    "def invertir_lista(lista):\n",
    "    nueva_lista = []\n",
    "    for i in range(len(lista) - 1, -1, -1):\n",
    "        nueva_lista.append(lista[i])\n",
    "    return nueva_lista\n"
   ]
  },
  {
   "cell_type": "markdown",
   "metadata": {},
   "source": [
    "# Ejercicios con While y Colecciones en Python"
   ]
  },
  {
   "cell_type": "code",
   "execution_count": 6,
   "metadata": {},
   "outputs": [],
   "source": [
    "def eliminar_duplicados(lista):\n",
    "    return list(set(lista))\n"
   ]
  },
  {
   "cell_type": "code",
   "execution_count": 7,
   "metadata": {},
   "outputs": [],
   "source": [
    "import random\n",
    "\n",
    "def adivinar_numero():\n",
    "    numero_secreto = random.randint(1, 100)\n",
    "    intentos = 7\n",
    "    \n",
    "    while intentos > 0:\n",
    "        adivina = int(input(\"Adivina el número (entre 1 y 100): \"))\n",
    "        if adivina == numero_secreto:\n",
    "            print(\"¡Felicidades! Adivinaste el número.\")\n",
    "            return\n",
    "        elif adivina < numero_secreto:\n",
    "            print(\"El número es mayor.\")\n",
    "        else:\n",
    "            print(\"El número es menor.\")\n",
    "        intentos -= 1\n",
    "        print(f\"Te quedan {intentos} intentos.\")\n",
    "    \n",
    "    print(\"Se acabaron los intentos. El número era:\", numero_secreto)\n"
   ]
  },
  {
   "cell_type": "code",
   "execution_count": 8,
   "metadata": {},
   "outputs": [],
   "source": [
    "def contar_vocales(frase):\n",
    "    vocales = \"aeiouAEIOU\"\n",
    "    contador = 0\n",
    "    i = 0\n",
    "    while i < len(frase):\n",
    "        if frase[i] in vocales:\n",
    "            contador += 1\n",
    "        i += 1\n",
    "    return contador\n"
   ]
  },
  {
   "cell_type": "code",
   "execution_count": 9,
   "metadata": {},
   "outputs": [],
   "source": [
    "def calculadora():\n",
    "    while True:\n",
    "        num1 = float(input(\"Ingrese el primer número: \"))\n",
    "        num2 = float(input(\"Ingrese el segundo número: \"))\n",
    "        operacion = input(\"Ingrese la operación (+, -, *, /) o 'salir' para terminar: \")\n",
    "        \n",
    "        if operacion == \"salir\":\n",
    "            break\n",
    "        elif operacion == \"+\":\n",
    "            print(f\"Resultado: {num1 + num2}\")\n",
    "        elif operacion == \"-\":\n",
    "            print(f\"Resultado: {num1 - num2}\")\n",
    "        elif operacion == \"*\":\n",
    "            print(f\"Resultado: {num1 * num2}\")\n",
    "        elif operacion == \"/\":\n",
    "            if num2 != 0:\n",
    "                print(f\"Resultado: {num1 / num2}\")\n",
    "            else:\n",
    "                print(\"No se puede dividir entre 0.\")\n",
    "        else:\n",
    "            print(\"Operación no válida.\")\n"
   ]
  },
  {
   "cell_type": "code",
   "execution_count": 10,
   "metadata": {},
   "outputs": [],
   "source": [
    "def lista_pares():\n",
    "    pares = []\n",
    "    num = 1\n",
    "    while num <= 100:\n",
    "        if num % 2 == 0:\n",
    "            pares.append(num)\n",
    "        num += 1\n",
    "    return pares\n"
   ]
  },
  {
   "cell_type": "markdown",
   "metadata": {},
   "source": [
    "# Ejercicios con Diccionarios"
   ]
  },
  {
   "cell_type": "code",
   "execution_count": 11,
   "metadata": {},
   "outputs": [],
   "source": [
    "def agregar_alumnos():\n",
    "    alumnos = {}\n",
    "    while True:\n",
    "        nombre = input(\"Ingrese el nombre del alumno (o 'salir' para terminar): \")\n",
    "        if nombre == \"salir\":\n",
    "            break\n",
    "        nota = float(input(f\"Ingrese la nota de {nombre}: \"))\n",
    "        alumnos[nombre] = nota\n",
    "    return alumnos\n"
   ]
  },
  {
   "cell_type": "code",
   "execution_count": 12,
   "metadata": {},
   "outputs": [],
   "source": [
    "def promedio_notas(alumnos):\n",
    "    suma = 0\n",
    "    for nota in alumnos.values():\n",
    "        suma += nota\n",
    "    return suma / len(alumnos)\n"
   ]
  },
  {
   "cell_type": "code",
   "execution_count": 13,
   "metadata": {},
   "outputs": [],
   "source": [
    "def alumno_con_mejor_nota(alumnos):\n",
    "    mejor_alumno = max(alumnos, key=alumnos.get)\n",
    "    return mejor_alumno\n"
   ]
  },
  {
   "cell_type": "code",
   "execution_count": 14,
   "metadata": {},
   "outputs": [],
   "source": [
    "def agregar_palabras():\n",
    "    diccionario = {}\n",
    "    while True:\n",
    "        palabra = input(\"Ingrese la palabra (o 'salir' para terminar): \")\n",
    "        if palabra == \"salir\":\n",
    "            break\n",
    "        definicion = input(f\"Ingrese la definición de {palabra}: \")\n",
    "        diccionario[palabra] = definicion\n",
    "    return diccionario\n"
   ]
  },
  {
   "cell_type": "code",
   "execution_count": 15,
   "metadata": {},
   "outputs": [],
   "source": [
    "def buscar_palabra(diccionario, palabra):\n",
    "    return diccionario.get(palabra, \"Palabra no encontrada.\")\n"
   ]
  }
 ],
 "metadata": {
  "kernelspec": {
   "display_name": "Python 3",
   "language": "python",
   "name": "python3"
  },
  "language_info": {
   "codemirror_mode": {
    "name": "ipython",
    "version": 3
   },
   "file_extension": ".py",
   "mimetype": "text/x-python",
   "name": "python",
   "nbconvert_exporter": "python",
   "pygments_lexer": "ipython3",
   "version": "3.12.5"
  }
 },
 "nbformat": 4,
 "nbformat_minor": 2
}
